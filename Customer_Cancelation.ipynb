{
 "cells": [
  {
   "cell_type": "code",
   "execution_count": null,
   "id": "eae8a410",
   "metadata": {},
   "outputs": [],
   "source": [
    "import numpy as np \n",
    "import pandas as pd\n",
    "import matplotlib.pyplot as plt\n",
    "import seaborn as sns\n",
    "import re \n",
    "import pickle\n",
    "import sklearn\n",
    "import statsmodels.api as sm\n",
    "\n",
    "from sklearn.feature_selection import SequentialFeatureSelector\n",
    "from sklearn.preprocessing import PolynomialFeatures, StandardScaler, LabelEncoder, MinMaxScaler\n",
    "from sklearn.ensemble import RandomForestClassifier\n",
    "from sklearn.model_selection import train_test_split, GridSearchCV\n",
    "from sklearn.metrics import roc_curve, roc_auc_score\n",
    "from sklearn.neighbors import KNeighborsClassifier\n",
    "from sklearn.metrics import accuracy_score, confusion_matrix, classification_report\n",
    "from sklearn.svm import LinearSVC\n",
    "from sklearn.linear_model import LogisticRegression\n",
    "from sklearn.tree import DecisionTreeClassifier"
   ]
  },
  {
   "cell_type": "markdown",
   "id": "3c2dd281",
   "metadata": {},
   "source": [
    "## Functions"
   ]
  },
  {
   "cell_type": "code",
   "execution_count": null,
   "id": "289406c8",
   "metadata": {},
   "outputs": [],
   "source": [
    "def convert(item, map_dict):\n",
    "    return map_dict.get(item, \"unknown\")"
   ]
  },
  {
   "cell_type": "code",
   "execution_count": null,
   "id": "5c0801cd",
   "metadata": {},
   "outputs": [],
   "source": [
    "# IQR Function with quantiles (25, 75) \n",
    "def IQR(column_name, df):\n",
    "    IQR = 0\n",
    "    \n",
    "    q1 = df[column_name].quantile(.25)\n",
    "    q3 = df[column_name].quantile(.75)\n",
    "    \n",
    "    IQR= q3 - q1\n",
    "    \n",
    "    lower= q1 - 1.5 * IQR\n",
    "    upper= q3 + 1.5 * IQR\n",
    "    \n",
    "    df.drop(df[((df[column_name] > upper) | (df[column_name] < lower))].index, inplace= True, axis=0)\n"
   ]
  },
  {
   "cell_type": "code",
   "execution_count": null,
   "id": "7717579c",
   "metadata": {},
   "outputs": [],
   "source": [
    "def skew_kurtoisis(column):\n",
    "    data = pd.DataFrame({\n",
    "    \"Skew\": [column.skew()],\n",
    "    \"kurtoisis\":[column.kurtosis()]\n",
    "                })\n",
    "    print(data)"
   ]
  },
  {
   "cell_type": "markdown",
   "id": "06c576b4",
   "metadata": {},
   "source": [
    "## Reading Data"
   ]
  },
  {
   "cell_type": "code",
   "execution_count": null,
   "id": "8584df32",
   "metadata": {},
   "outputs": [],
   "source": [
    "data = pd.read_csv(open(\"Customer_Cancelation.csv\",\"r\"))\n",
    "data"
   ]
  },
  {
   "cell_type": "code",
   "execution_count": null,
   "id": "2cfc1c83",
   "metadata": {},
   "outputs": [],
   "source": [
    "data.info()"
   ]
  },
  {
   "cell_type": "code",
   "execution_count": null,
   "id": "948bb0ee",
   "metadata": {},
   "outputs": [],
   "source": [
    "data.describe()"
   ]
  },
  {
   "cell_type": "markdown",
   "id": "9c287d9b",
   "metadata": {},
   "source": [
    "## Check Duplicates & NANs"
   ]
  },
  {
   "cell_type": "code",
   "execution_count": null,
   "id": "49700a41",
   "metadata": {},
   "outputs": [],
   "source": [
    "data.isna().sum()"
   ]
  },
  {
   "cell_type": "code",
   "execution_count": null,
   "id": "b14960dc",
   "metadata": {},
   "outputs": [],
   "source": [
    "data.duplicated().sum()"
   ]
  },
  {
   "cell_type": "markdown",
   "id": "df0ad065",
   "metadata": {},
   "source": [
    "## Preprocessing"
   ]
  },
  {
   "cell_type": "code",
   "execution_count": null,
   "id": "ace133c8",
   "metadata": {},
   "outputs": [],
   "source": [
    "data.columns"
   ]
  },
  {
   "cell_type": "code",
   "execution_count": null,
   "id": "5e4cd6ee",
   "metadata": {},
   "outputs": [],
   "source": [
    "data.drop(columns= [\"Booking_ID\"], axis= 1, inplace= True)\n",
    "data.head()"
   ]
  },
  {
   "cell_type": "markdown",
   "id": "5c1d73ed",
   "metadata": {},
   "source": [
    "#### Encoding for Visualization"
   ]
  },
  {
   "cell_type": "code",
   "execution_count": null,
   "id": "374cb71e",
   "metadata": {},
   "outputs": [],
   "source": [
    "# Custom Encoding for Specific Values\n",
    "meal = {\n",
    "    \"Not Selected\" : 0,\n",
    "    \"Meal Plan 1\": 1,\n",
    "    \"Meal Plan 2\": 2,\n",
    "    \"Meal Plan 3\": 3\n",
    "    \n",
    "}\n",
    "\n",
    "data[\"type of meal\"] = data[\"type of meal\"].map(meal)"
   ]
  },
  {
   "cell_type": "code",
   "execution_count": null,
   "id": "03f94267",
   "metadata": {},
   "outputs": [],
   "source": [
    "# Custom Encoding for Specific Values\n",
    "room = {\n",
    "    \"Room_Type 1\": 1,\n",
    "    \"Room_Type 2\": 2,\n",
    "    \"Room_Type 3\": 3,\n",
    "    \"Room_Type 4\": 4,\n",
    "    \"Room_Type 5\": 5,\n",
    "    \"Room_Type 6\": 6,\n",
    "    \"Room_Type 7\": 7,\n",
    "    \n",
    "}\n",
    "\n",
    "data[\"room type\"] = data[\"room type\"].map(room)"
   ]
  },
  {
   "cell_type": "code",
   "execution_count": null,
   "id": "bcf480bc",
   "metadata": {},
   "outputs": [],
   "source": [
    "# Custom Encoding for Specific Values\n",
    "booking = {\n",
    "    \"Not_Canceled\" : 0,\n",
    "    \"Canceled\": 1\n",
    "}\n",
    "\n",
    "data[\"booking status\"] = data[\"booking status\"].map(booking)"
   ]
  },
  {
   "cell_type": "code",
   "execution_count": null,
   "id": "c4d5151f",
   "metadata": {},
   "outputs": [],
   "source": [
    "market = {\n",
    "    \"Offline\": 0,\n",
    "    \"Online\": 1,\n",
    "    \"Corporate\": 2,\n",
    "    \"Aviation\": 3,\n",
    "    \"Complementary\": 4\n",
    "    \n",
    "}\n",
    "data[\"market segment type\"] = data[\"market segment type\"].map(market)"
   ]
  },
  {
   "cell_type": "code",
   "execution_count": null,
   "id": "c88edec6",
   "metadata": {},
   "outputs": [],
   "source": [
    "data.head()"
   ]
  },
  {
   "cell_type": "markdown",
   "id": "0b1bfaca",
   "metadata": {},
   "source": [
    "#### Handling Features"
   ]
  },
  {
   "cell_type": "code",
   "execution_count": null,
   "id": "36815b3d",
   "metadata": {},
   "outputs": [],
   "source": [
    "data[['month', 'day', 'year']] = data[\"date of reservation\"].str.split(\"/\", expand = True)"
   ]
  },
  {
   "cell_type": "code",
   "execution_count": null,
   "id": "82946f97",
   "metadata": {},
   "outputs": [],
   "source": [
    "# we will delete the remaining 37 instance with \"-\" to have the same number of rows of data\n",
    "data.drop(data[data[\"day\"].isna()].index,\n",
    "             axis= 0, \n",
    "             inplace= True,\n",
    "             )\n",
    "data.drop(columns=\"date of reservation\", inplace=True)"
   ]
  },
  {
   "cell_type": "code",
   "execution_count": null,
   "id": "61ffc906",
   "metadata": {},
   "outputs": [],
   "source": [
    "#Re-Format\n",
    "data[\"month\"]= data[\"month\"].astype(\"int64\")\n",
    "data[\"day\"]= data[\"day\"].astype(\"int64\")\n",
    "data[\"year\"]= data[\"year\"].astype(\"int64\")\n",
    "data[\"lead time\"]= data[\"lead time\"].astype(\"float64\")\n"
   ]
  },
  {
   "cell_type": "code",
   "execution_count": null,
   "id": "dcefa59a",
   "metadata": {},
   "outputs": [],
   "source": [
    "data.info()"
   ]
  },
  {
   "cell_type": "markdown",
   "id": "9f3319df",
   "metadata": {},
   "source": [
    "#### All Features"
   ]
  },
  {
   "cell_type": "code",
   "execution_count": null,
   "id": "e05e2056",
   "metadata": {},
   "outputs": [],
   "source": [
    "features = data.loc[:,~data.columns.isin([\"booking status\"])]\n",
    "features"
   ]
  },
  {
   "cell_type": "markdown",
   "id": "e3b0a74b",
   "metadata": {},
   "source": [
    "## Continous features"
   ]
  },
  {
   "cell_type": "code",
   "execution_count": null,
   "id": "f64016f4",
   "metadata": {},
   "outputs": [],
   "source": [
    "con_features = data.loc[:, data.columns.isin(['lead time', 'average price '])]\n",
    "con_features"
   ]
  },
  {
   "cell_type": "markdown",
   "id": "9ea41731",
   "metadata": {},
   "source": [
    "## Discrete Features"
   ]
  },
  {
   "cell_type": "code",
   "execution_count": null,
   "id": "1ec44ab1",
   "metadata": {},
   "outputs": [],
   "source": [
    "disc_features = data.loc[:, ~data.columns.isin(['lead time', 'average price ', 'booking status'])]\n",
    "disc_features"
   ]
  },
  {
   "cell_type": "markdown",
   "id": "f6480fb2",
   "metadata": {},
   "source": [
    "#### Handling with Continous Features"
   ]
  },
  {
   "cell_type": "code",
   "execution_count": null,
   "id": "f8ab886a",
   "metadata": {},
   "outputs": [],
   "source": [
    "sns.boxplot(x= data.loc[:,con_features.columns].iloc[:,0] )"
   ]
  },
  {
   "cell_type": "code",
   "execution_count": null,
   "id": "03a0f7a5",
   "metadata": {},
   "outputs": [],
   "source": [
    "sns.boxplot(x= data.loc[:,con_features.columns].iloc[:,1] )"
   ]
  },
  {
   "cell_type": "code",
   "execution_count": null,
   "id": "292474e4",
   "metadata": {},
   "outputs": [],
   "source": [
    "for col in data.loc[:,con_features.columns].columns.to_list():\n",
    "    IQR(col, data)\n",
    "\n",
    "data.reset_index(inplace=True, drop= True)"
   ]
  },
  {
   "cell_type": "code",
   "execution_count": null,
   "id": "107ae982",
   "metadata": {},
   "outputs": [],
   "source": [
    "sns.boxplot(x= data.loc[:,con_features.columns].iloc[:,0] )"
   ]
  },
  {
   "cell_type": "code",
   "execution_count": null,
   "id": "f7debb82",
   "metadata": {},
   "outputs": [],
   "source": [
    "sns.boxplot(x= data.loc[:,con_features.columns].iloc[:,1] )"
   ]
  },
  {
   "cell_type": "markdown",
   "id": "23d4b8ee",
   "metadata": {},
   "source": [
    "## Final Features"
   ]
  },
  {
   "cell_type": "code",
   "execution_count": null,
   "id": "7dafdf0e",
   "metadata": {},
   "outputs": [],
   "source": [
    "features = data.loc[:,~data.columns.isin([\"booking status\",  \"P-C\"])]\n",
    "features"
   ]
  },
  {
   "cell_type": "code",
   "execution_count": null,
   "id": "bee81800",
   "metadata": {},
   "outputs": [],
   "source": [
    "features.info()"
   ]
  },
  {
   "cell_type": "markdown",
   "id": "1d1026d8",
   "metadata": {},
   "source": [
    "## Target"
   ]
  },
  {
   "cell_type": "code",
   "execution_count": null,
   "id": "1e5399b6",
   "metadata": {},
   "outputs": [],
   "source": [
    "target = data.loc[:, [\"booking status\"]]\n",
    "target"
   ]
  },
  {
   "cell_type": "markdown",
   "id": "84afae9b",
   "metadata": {},
   "source": [
    "## EDA"
   ]
  },
  {
   "cell_type": "markdown",
   "id": "50d26d15",
   "metadata": {},
   "source": [
    "### Univariate Analysis"
   ]
  },
  {
   "cell_type": "code",
   "execution_count": null,
   "id": "408e9baa",
   "metadata": {},
   "outputs": [],
   "source": [
    "sns.countplot(x= \"booking status\", data= target)\n",
    "plt.show()"
   ]
  },
  {
   "cell_type": "markdown",
   "id": "acb91f57",
   "metadata": {},
   "source": [
    "###### ----lead time"
   ]
  },
  {
   "cell_type": "code",
   "execution_count": null,
   "id": "213d41a1",
   "metadata": {},
   "outputs": [],
   "source": [
    "sns.histplot(x= \"lead time\", bins=50, kde= True,data= features)\n",
    "plt.show()"
   ]
  },
  {
   "cell_type": "code",
   "execution_count": null,
   "id": "6645d044",
   "metadata": {},
   "outputs": [],
   "source": [
    "skew_kurtoisis(con_features.iloc[:,0])"
   ]
  },
  {
   "cell_type": "markdown",
   "id": "4f1806c2",
   "metadata": {},
   "source": [
    "\"Note\"\n",
    "lead time column has right skew shape = 1.3 & small kurtoisis = 1.2"
   ]
  },
  {
   "cell_type": "markdown",
   "id": "8bd550bd",
   "metadata": {},
   "source": [
    "###### -----average price"
   ]
  },
  {
   "cell_type": "code",
   "execution_count": null,
   "id": "b66f10b8",
   "metadata": {},
   "outputs": [],
   "source": [
    "sns.histplot(x= \"average price \", bins=50, kde= True,data= features)\n",
    "plt.show()"
   ]
  },
  {
   "cell_type": "code",
   "execution_count": null,
   "id": "2a1d7578",
   "metadata": {},
   "outputs": [],
   "source": [
    "skew_kurtoisis(con_features.iloc[:,1])"
   ]
  },
  {
   "cell_type": "markdown",
   "id": "d150bf4f",
   "metadata": {},
   "source": [
    "\"Note\" average price column has small right skew shape = .7 & high kurtoisis = 3.15"
   ]
  },
  {
   "cell_type": "markdown",
   "id": "6cbed0b8",
   "metadata": {},
   "source": [
    "## Splitting & Scailing"
   ]
  },
  {
   "cell_type": "code",
   "execution_count": null,
   "id": "c42795df",
   "metadata": {},
   "outputs": [],
   "source": [
    "X_train, X_test, y_train, y_test = train_test_split(features, target, test_size=.2, random_state=42)"
   ]
  },
  {
   "cell_type": "code",
   "execution_count": null,
   "id": "6cd7fb7b",
   "metadata": {},
   "outputs": [],
   "source": [
    "ss = StandardScaler()\n",
    "X_train[con_features.columns] = ss.fit_transform(X_train[con_features.columns])\n",
    "X_test[con_features.columns]= ss.transform(X_test[con_features.columns])\n",
    "X_train"
   ]
  },
  {
   "cell_type": "markdown",
   "id": "4e26871d",
   "metadata": {},
   "source": [
    "## Random Forest "
   ]
  },
  {
   "cell_type": "code",
   "execution_count": null,
   "id": "b07cb32c",
   "metadata": {},
   "outputs": [],
   "source": [
    "RF = RandomForestClassifier(n_estimators=326, \n",
    "                            max_depth=22, \n",
    "                            random_state= 0, \n",
    "                            n_jobs= -1, \n",
    "                            oob_score= True, \n",
    "                           )\n",
    "RF.fit(X_train, np.ravel(y_train))"
   ]
  },
  {
   "cell_type": "markdown",
   "id": "6d28bef3",
   "metadata": {},
   "source": [
    "#### Threshold = .5"
   ]
  },
  {
   "cell_type": "code",
   "execution_count": null,
   "id": "c0b3e300",
   "metadata": {},
   "outputs": [],
   "source": [
    "rf_prediction = np.where(RF.predict_proba(X_test) > 0.5, 1, 0)[:, 1]\n",
    "accuracy_score(y_test, rf_prediction)"
   ]
  },
  {
   "cell_type": "code",
   "execution_count": null,
   "id": "78fe5b31",
   "metadata": {},
   "outputs": [],
   "source": [
    "plt.figure(figsize=(10,8))\n",
    "sns.heatmap(confusion_matrix(y_test, rf_prediction), annot= True, fmt=\".2f\")\n",
    "\n",
    "plt.xlabel(\"Prediction\")\n",
    "plt.ylabel(\"True\")\n",
    "\n",
    "plt.show()"
   ]
  },
  {
   "cell_type": "code",
   "execution_count": null,
   "id": "f0e01f90",
   "metadata": {},
   "outputs": [],
   "source": [
    "print(classification_report(y_test, rf_prediction))"
   ]
  },
  {
   "cell_type": "code",
   "execution_count": null,
   "id": "d00da48c",
   "metadata": {},
   "outputs": [],
   "source": [
    "false_positive_rate, true_positive_rate, threshold = roc_curve(y_test, rf_prediction)\n",
    "print('roc_auc_score for Random Forest: ', roc_auc_score(y_test, rf_prediction))"
   ]
  },
  {
   "cell_type": "code",
   "execution_count": null,
   "id": "539f891b",
   "metadata": {},
   "outputs": [],
   "source": [
    "plt.title('Receiver Operating Characteristic - Random Forest threshold = .5')\n",
    "plt.plot(false_positive_rate, true_positive_rate)\n",
    "plt.plot([0, 1], ls=\"--\")\n",
    "plt.plot([0, 0], [1, 0] , c=\".7\"), plt.plot([1, 1] , c=\".7\")\n",
    "plt.ylabel('True Positive Rate')\n",
    "plt.xlabel('False Positive Rate')\n",
    "plt.show()"
   ]
  },
  {
   "cell_type": "markdown",
   "id": "6f616632",
   "metadata": {},
   "source": [
    "#### Threshold = .265"
   ]
  },
  {
   "cell_type": "code",
   "execution_count": null,
   "id": "cfc828c1",
   "metadata": {},
   "outputs": [],
   "source": [
    "rf_prediction = np.where(RF.predict_proba(X_test) > 0.265, 1, 0)[:, 1]\n",
    "accuracy_score(y_test, rf_prediction)"
   ]
  },
  {
   "cell_type": "code",
   "execution_count": null,
   "id": "6c74f007",
   "metadata": {},
   "outputs": [],
   "source": [
    "plt.figure(figsize=(10,8))\n",
    "sns.heatmap(confusion_matrix(y_test, rf_prediction), annot= True, fmt=\".2f\")\n",
    "\n",
    "plt.xlabel(\"Prediction\")\n",
    "plt.ylabel(\"True\")\n",
    "\n",
    "plt.show()"
   ]
  },
  {
   "cell_type": "code",
   "execution_count": null,
   "id": "25cd21fb",
   "metadata": {},
   "outputs": [],
   "source": [
    "print(classification_report(y_test, rf_prediction))"
   ]
  },
  {
   "cell_type": "code",
   "execution_count": null,
   "id": "0d5d66fc",
   "metadata": {},
   "outputs": [],
   "source": [
    "false_positive_rate, true_positive_rate, threshold = roc_curve(y_test, rf_prediction)\n",
    "print('roc_auc_score for Random Forest: ', roc_auc_score(y_test, rf_prediction))"
   ]
  },
  {
   "cell_type": "code",
   "execution_count": null,
   "id": "cd2fe57e",
   "metadata": {},
   "outputs": [],
   "source": [
    "plt.title('Receiver Operating Characteristic - Random Forest threshold = .265')\n",
    "plt.plot(false_positive_rate, true_positive_rate)\n",
    "plt.plot([0, 1], ls=\"--\")\n",
    "plt.plot([0, 0], [1, 0] , c=\".7\"), plt.plot([1, 1] , c=\".7\")\n",
    "plt.ylabel('True Positive Rate')\n",
    "plt.xlabel('False Positive Rate')\n",
    "plt.show()"
   ]
  },
  {
   "cell_type": "markdown",
   "id": "953ff999",
   "metadata": {},
   "source": [
    "#### Tuning"
   ]
  },
  {
   "cell_type": "code",
   "execution_count": null,
   "id": "5e837fd4",
   "metadata": {},
   "outputs": [],
   "source": [
    "# param_grid = {\"n_estimators\" : [400, 500, 600, 700 ],\n",
    "#               \"max_depth\": [30, 40, 50]\n",
    "#              }\n",
    "\n",
    "# g_cv = GridSearchCV(RF, param_grid=param_grid, scoring=\"accuracy\", cv= 5, verbose= 6, n_jobs=-1)\n",
    "# g_cv.fit(X_train, np.ravel(y_train))\n",
    "\n",
    "# g_cv.best_params_"
   ]
  },
  {
   "cell_type": "markdown",
   "id": "7de91adb",
   "metadata": {},
   "source": [
    "## Save Model"
   ]
  },
  {
   "cell_type": "code",
   "execution_count": null,
   "id": "d428fe29",
   "metadata": {},
   "outputs": [],
   "source": [
    "# import joblib\n",
    "# joblib.dump(RF, 'RF.pkl')"
   ]
  },
  {
   "cell_type": "code",
   "execution_count": null,
   "id": "7605a8c8",
   "metadata": {},
   "outputs": [],
   "source": []
  },
  {
   "cell_type": "code",
   "execution_count": null,
   "id": "b5707cf4",
   "metadata": {},
   "outputs": [],
   "source": [
    "X_test.iloc[-4, :]"
   ]
  },
  {
   "cell_type": "code",
   "execution_count": null,
   "id": "9fcd7815",
   "metadata": {},
   "outputs": [],
   "source": [
    "y_test.iloc[-4]"
   ]
  }
 ],
 "metadata": {
  "kernelspec": {
   "display_name": "Python 3 (ipykernel)",
   "language": "python",
   "name": "python3"
  },
  "language_info": {
   "codemirror_mode": {
    "name": "ipython",
    "version": 3
   },
   "file_extension": ".py",
   "mimetype": "text/x-python",
   "name": "python",
   "nbconvert_exporter": "python",
   "pygments_lexer": "ipython3",
   "version": "3.9.7"
  }
 },
 "nbformat": 4,
 "nbformat_minor": 5
}
